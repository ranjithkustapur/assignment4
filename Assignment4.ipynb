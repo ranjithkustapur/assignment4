{
  "nbformat": 4,
  "nbformat_minor": 0,
  "metadata": {
    "colab": {
      "provenance": []
    },
    "kernelspec": {
      "name": "python3",
      "display_name": "Python 3"
    },
    "language_info": {
      "name": "python"
    }
  },
  "cells": [
    {
      "cell_type": "code",
      "source": [
        "from google.colab import drive \n",
        "drive.mount('/content/gdrive')\n",
        "path_to_csv = '/content/gdrive/My Drive/data.csv'\n",
        "import warnings\n",
        "warnings.filterwarnings(\"ignore\")"
      ],
      "metadata": {
        "id": "aRpnN_C0R8Ss"
      },
      "execution_count": null,
      "outputs": []
    },
    {
      "cell_type": "code",
      "source": [
        "import pandas as pd\n",
        "# Read the provided CSV file from ‘data.csv’\n",
        "df = pd.read_csv(path_to_csv)\n",
        "df"
      ],
      "metadata": {
        "id": "ouMZ0Om6R8Uz"
      },
      "execution_count": null,
      "outputs": []
    },
    {
      "cell_type": "code",
      "source": [
        "# Show the basic view about the data.\n",
        "df.describe()"
      ],
      "metadata": {
        "id": "6g5f7irhR8WS"
      },
      "execution_count": null,
      "outputs": []
    },
    {
      "cell_type": "code",
      "source": [
        "# Checking for null values.\n",
        "print('Are there any null values: ',df.isnull().values.any())\n",
        "# Replace the null values with the mean\n",
        "df.fillna(df.mean(),inplace=True)\n",
        "print('Are there any null values after using fillna: ',df.isnull().values.any())"
      ],
      "metadata": {
        "id": "Ah_UMBgJR8YV"
      },
      "execution_count": null,
      "outputs": []
    },
    {
      "cell_type": "code",
      "source": [
        "# Select at least two columns and aggregate the data using: min, max, count, mean.\n",
        "aggre = df.groupby('Duration').agg({'Calories':['mean','min','max','count']})\n",
        "aggre"
      ],
      "metadata": {
        "id": "S08ndoWoR8aa"
      },
      "execution_count": null,
      "outputs": []
    },
    {
      "cell_type": "code",
      "source": [
        "# Filter the dataframe to select the rows with calories values between 500 and 1000\n",
        "df[(df['Calories']>=500) & (df['Calories']<=1000)]"
      ],
      "metadata": {
        "id": "PtpjEkk8R8cD"
      },
      "execution_count": null,
      "outputs": []
    },
    {
      "cell_type": "code",
      "source": [
        "# Filter the dataframe to select the rows with calories values > 500 and pulse < 100\n",
        "df[(df['Calories']>500) & (df['Pulse']<100)]"
      ],
      "metadata": {
        "id": "_GE4SN-HR8d7"
      },
      "execution_count": null,
      "outputs": []
    },
    {
      "cell_type": "code",
      "source": [
        "# Create a new “df_modified” dataframe that contains all the columns from df except for “Maxpulse”\n",
        "df_modified = df[['Duration', 'Pulse', 'Calories']]\n",
        "df_modified"
      ],
      "metadata": {
        "id": "mnTWRzskR8fy"
      },
      "execution_count": null,
      "outputs": []
    },
    {
      "cell_type": "code",
      "source": [
        "# Delete the “Maxpulse” column from the main df dataframe\n",
        "df = df.drop('Maxpulse', axis=1)\n",
        "df"
      ],
      "metadata": {
        "id": "8tKpJEDqR8hz"
      },
      "execution_count": null,
      "outputs": []
    },
    {
      "cell_type": "code",
      "source": [
        "# Convert the datatype of Calories column to int datatype\n",
        "df['Calories'] = df['Calories'].astype('int64')\n",
        "df.dtypes"
      ],
      "metadata": {
        "id": "z_JXlrVDR8lU"
      },
      "execution_count": null,
      "outputs": []
    },
    {
      "cell_type": "code",
      "source": [
        "# Using pandas create a scatter plot for the two columns (Duration and Calories)\n",
        "df.plot.scatter(x='Duration', y='Calories')"
      ],
      "metadata": {
        "id": "6gu0nqU0R8pB"
      },
      "execution_count": null,
      "outputs": []
    },
    {
      "cell_type": "code",
      "source": [
        "import matplotlib.pyplot as plt\n",
        "import seaborn as sns\n",
        "train_df = pd.read_csv('/content/gdrive/My Drive/Dataset/train.csv')\n",
        "test_df = pd.read_csv('/content/gdrive/My Drive/Dataset/test.csv')\n",
        "titanic = pd.concat([train_df, test_df])\n",
        "# Find the correlation between ‘survived’ (target column) and ‘sex’ column for the Titanic use case inclass\n",
        "titanic_copy = titanic.copy()\n",
        "titanic_copy['Survived'] = titanic_copy['Survived'].astype('category').cat.codes\n",
        "titanic_copy['Sex'] = titanic_copy['Sex'].astype('category').cat.codes\n",
        "titanic_copy['Embarked'] = titanic_copy['Embarked'].astype('category').cat.codes\n",
        "corr = titanic_copy['Survived'].corr(titanic_copy['Sex'])\n",
        "corr"
      ],
      "metadata": {
        "id": "DwnS0oVzS0NU"
      },
      "execution_count": null,
      "outputs": []
    },
    {
      "cell_type": "code",
      "source": [
        "titanic_copy.corr()['Survived']"
      ],
      "metadata": {
        "id": "tvQgdsV2S0WI"
      },
      "execution_count": null,
      "outputs": []
    },
    {
      "cell_type": "code",
      "source": [
        "survived = 'survived'\n",
        "not_survived = 'not survived'\n",
        "fig, axes = plt.subplots(nrows=1, ncols=2,figsize=(10, 4))\n",
        "women = titanic[titanic['Sex']=='female']\n",
        "men = titanic[titanic['Sex']=='male']\n",
        "ax = sns.distplot(women[women['Survived']==1].Age.dropna(), bins=18, label = survived, ax = axes[0], kde =False)\n",
        "ax = sns.distplot(women[women['Survived']==0].Age.dropna(), bins=40, label = not_survived, ax = axes[0], kde =False)\n",
        "ax.legend()\n",
        "ax.set_title('Female')\n",
        "ax = sns.distplot(men[men['Survived']==1].Age.dropna(), bins=18, label = survived, ax = axes[1], kde = False)\n",
        "ax = sns.distplot(men[men['Survived']==0].Age.dropna(), bins=40, label = not_survived, ax = axes[1], kde = False)\n",
        "ax.legend()\n",
        "_ = ax.set_title('Male')"
      ],
      "metadata": {
        "id": "_1_NIJOJS0Yt"
      },
      "execution_count": null,
      "outputs": []
    },
    {
      "cell_type": "code",
      "source": [
        "# Do you think we should keep this feature?\n",
        "''' In my opinion, we should keep this feature.\n",
        "As we can see in the above correlation plot, age has good impact on the survival factor more in the male category \n",
        "while compared to in the female category. The correlation value of negative 0.22 is considered as a weak relation but \n",
        "when we take a look at the correlation matrix of the dataframe, Sex is the column that has the second highest impact(absolute value) on the target column.'''"
      ],
      "metadata": {
        "id": "eiuzhzvpTAfv"
      },
      "execution_count": null,
      "outputs": []
    },
    {
      "cell_type": "code",
      "source": [
        "# Do at least two visualizations to describe or show correlations\n",
        "corr_data = titanic_copy.corr()\n",
        "sns.heatmap(corr_data)"
      ],
      "metadata": {
        "id": "IhE0LP_GTAlD"
      },
      "execution_count": null,
      "outputs": []
    },
    {
      "cell_type": "code",
      "source": [
        "sns.scatterplot(corr_data)\n",
        "plt.legend(bbox_to_anchor=(1.3, 1), loc='upper right', borderaxespad=0)"
      ],
      "metadata": {
        "id": "DXr4P9nGTKRi"
      },
      "execution_count": null,
      "outputs": []
    },
    {
      "cell_type": "code",
      "source": [
        "sns.lineplot(corr_data)\n",
        "plt.legend(bbox_to_anchor=(1.3, 1), loc='upper right', borderaxespad=0)"
      ],
      "metadata": {
        "id": "wqw66W_bTKUn"
      },
      "execution_count": null,
      "outputs": []
    },
    {
      "cell_type": "code",
      "source": [
        "# Implement Naïve Bayes method using scikit-learn library and report the accuracy\n",
        "from sklearn.model_selection import train_test_split\n",
        "from sklearn.naive_bayes import GaussianNB\n",
        "from sklearn.metrics import confusion_matrix\n",
        "from sklearn.metrics import classification_report\n",
        "from sklearn.metrics import accuracy_score\n",
        "titanic_copy = titanic_copy.dropna()\n",
        "df = titanic_copy.drop(['PassengerId','Name','Ticket','Fare','Cabin'],axis=1)\n",
        "X = df.drop('Survived', axis=1)\n",
        "y = df['Survived']\n",
        "# Use train_test_split to create training and testing part.\n",
        "X_train, X_test, y_train, y_test = train_test_split(X, y, test_size = 0.2, random_state = 0)\n",
        "classifier = GaussianNB()\n",
        "classifier.fit(X_train, y_train)\n",
        "\n",
        "y_pred = classifier.predict(X_test)\n",
        "print(classification_report(y_test, y_pred))\n",
        "print(confusion_matrix(y_test, y_pred))\n",
        "print('accuracy is',accuracy_score(y_pred,y_test))"
      ],
      "metadata": {
        "id": "yh9HBlaRTUaL"
      },
      "execution_count": null,
      "outputs": []
    },
    {
      "cell_type": "code",
      "source": [
        "# Implement Naïve Bayes method using scikit-learn library.\n",
        "from sklearn.model_selection import train_test_split\n",
        "from sklearn.naive_bayes import GaussianNB\n",
        "glass = pd.read_csv('/content/gdrive/My Drive/Dataset/glass.csv')\n",
        "X = glass.iloc[:, :-1].values\n",
        "y = glass.iloc[:, -1].values\n",
        "# Use train_test_split to create training and testing part.\n",
        "X_train, X_test, y_train, y_test = train_test_split(X, y, test_size = 0.2, random_state = 0)\n",
        "classifier = GaussianNB()\n",
        "classifier.fit(X_train, y_train)\n",
        "\n",
        "y_pred = classifier.predict(X_test)\n",
        "\n",
        "# Evaluate the model on testing part using score and clasification_report\n",
        "from sklearn.metrics import accuracy_score\n",
        "from sklearn.metrics import classification_report\n",
        "print('accuracy is',accuracy_score(y_pred,y_test),'\\n\\n')\n",
        "print(classification_report(y_test, y_pred))"
      ],
      "metadata": {
        "id": "L3W5kuheTUfu"
      },
      "execution_count": null,
      "outputs": []
    },
    {
      "cell_type": "code",
      "source": [
        "# Implement linear SVM method using scikit library\n",
        "from sklearn.svm import SVC\n",
        "\n",
        "classifier_1 = SVC()\n",
        "classifier_1.fit(X_train, y_train)\n",
        "\n",
        "y_pred_1 = classifier_1.predict(X_test)\n",
        "# Evaluate the model on testing part using score and clasification_report\n",
        "from sklearn.metrics import accuracy_score\n",
        "from sklearn.metrics import classification_report\n",
        "print('accuracy is',accuracy_score(y_pred_1,y_test),'\\n\\n')\n",
        "print(classification_report(y_test, y_pred_1))"
      ],
      "metadata": {
        "id": "_-56wt20Tb0h"
      },
      "execution_count": null,
      "outputs": []
    },
    {
      "cell_type": "code",
      "source": [
        "# Do at least two visualizations to describe or show correlations in the Glass Dataset. \n",
        "correlation_data = glass.corr()\n",
        "sns.heatmap(correlation_data)"
      ],
      "metadata": {
        "id": "_isxGs3BTb4G"
      },
      "execution_count": null,
      "outputs": []
    },
    {
      "cell_type": "code",
      "source": [
        "sns.scatterplot(correlation_data)\n",
        "plt.legend(bbox_to_anchor=(1.3, 1), loc='upper right', borderaxespad=0)"
      ],
      "metadata": {
        "id": "JhxBsum5Tlgr"
      },
      "execution_count": null,
      "outputs": []
    }
  ]
}